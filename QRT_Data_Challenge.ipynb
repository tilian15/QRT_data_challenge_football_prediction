{
  "cells": [
    {
      "cell_type": "code",
      "execution_count": 1,
      "id": "0271094b",
      "metadata": {
        "id": "0271094b"
      },
      "outputs": [],
      "source": [
        "import pandas as pd\n",
        "import numpy as np\n",
        "from tqdm import tqdm\n",
        "from sklearn import model_selection\n",
        "from sklearn.metrics import accuracy_score, precision_score, recall_score, f1_score, confusion_matrix, roc_auc_score\n",
        "from sklearn.ensemble import GradientBoostingClassifier, HistGradientBoostingClassifier\n",
        "import warnings\n",
        "import matplotlib.pyplot as plt\n",
        "import xgboost as xgb\n",
        "from sklearn import svm\n",
        "from sklearn.linear_model import Lasso\n",
        "from sklearn.metrics import mean_squared_error\n",
        "from sklearn.linear_model import LogisticRegression\n",
        "from sklearn.ensemble import RandomForestClassifier\n",
        "from sklearn.svm import SVC\n",
        "from sklearn.neural_network import MLPClassifier\n",
        "from sklearn.model_selection import GridSearchCV\n",
        "from sklearn.model_selection import RandomizedSearchCV\n",
        "from sklearn.model_selection import cross_val_score\n",
        "from sklearn.impute import SimpleImputer\n",
        "from sklearn.preprocessing import LabelEncoder\n",
        "from sklearn.ensemble import VotingClassifier\n",
        "from sklearn.neighbors import KNeighborsClassifier\n",
        "from sklearn.metrics import classification_report\n",
        "from sklearn.neighbors import KNeighborsClassifier\n",
        "import optuna\n",
        "from sklearn.utils import resample\n",
        "from sklearn.preprocessing import MinMaxScaler, StandardScaler, RobustScaler\n",
        "from sklearn.decomposition import PCA\n"
      ]
    },
    {
      "cell_type": "markdown",
      "id": "cYYHCiyOsXmC",
      "metadata": {
        "id": "cYYHCiyOsXmC"
      },
      "source": [
        "## Read Test data"
      ]
    },
    {
      "cell_type": "code",
      "execution_count": 2,
      "id": "f254a743",
      "metadata": {},
      "outputs": [],
      "source": [
        "test_home_team_statistics_df = pd.read_csv('test_home_team_statistics_df.csv', index_col=0)\n",
        "test_away_team_statistics_df = pd.read_csv('test_away_team_statistics_df.csv', index_col=0)\n",
        "test_home_player_statistics_df = pd.read_csv('test_home_player_statistics_df.csv', index_col=0)\n",
        "test_away_player_statistics_df = pd.read_csv('test_away_player_statistics_df.csv', index_col=0)\n",
        "\n",
        "train_home_team_statistics_df = pd.read_csv('train_home_team_statistics_df.csv', index_col=0)\n",
        "train_away_team_statistics_df = pd.read_csv('train_away_team_statistics_df.csv', index_col=0)\n",
        "train_home_player_statistics_df = pd.read_csv('train_home_player_statistics_df.csv', index_col=0)\n",
        "train_away_player_statistics_df = pd.read_csv('train_away_player_statistics_df.csv', index_col=0)\n",
        "\n",
        "train_scores = pd.read_csv('Y_train.csv', index_col=0)"
      ]
    },
    {
      "cell_type": "code",
      "execution_count": 20,
      "id": "j6DUnLTnsbcU",
      "metadata": {
        "colab": {
          "base_uri": "https://localhost:8080/",
          "height": 475
        },
        "id": "j6DUnLTnsbcU",
        "outputId": "c7a0dcbc-b987-4228-a595-72ef7b460eae"
      },
      "outputs": [
        {
          "name": "stderr",
          "output_type": "stream",
          "text": [
            "/Users/marama/opt/anaconda3/lib/python3.9/site-packages/sklearn/utils/extmath.py:981: RuntimeWarning: invalid value encountered in divide\n",
            "  updated_mean = (last_sum + new_sum) / updated_sample_count\n",
            "/Users/marama/opt/anaconda3/lib/python3.9/site-packages/sklearn/utils/extmath.py:986: RuntimeWarning: invalid value encountered in divide\n",
            "  T = new_sum / new_sample_count\n",
            "/Users/marama/opt/anaconda3/lib/python3.9/site-packages/sklearn/utils/extmath.py:1006: RuntimeWarning: invalid value encountered in divide\n",
            "  new_unnormalized_variance -= correction**2 / new_sample_count\n"
          ]
        }
      ],
      "source": [
        "test_home = test_home_team_statistics_df.iloc[:,:]\n",
        "test_away = test_away_team_statistics_df.iloc[:,:]\n",
        "diff_test = test_home - test_away\n",
        "test_home.columns = test_home.columns + '_home'\n",
        "test_away.columns = test_away.columns + '_away'\n",
        "diff_test.columns = diff_test.columns + '_diff'\n",
        "\n",
        "# impute missing values\n",
        "test_data = pd.concat([test_home, test_away, diff_test], axis=1,)\n",
        "mean_values = test_data.mean()\n",
        "test_data = test_data.fillna(mean_values)\n",
        "\n",
        "# scale the data \n",
        "scaler = StandardScaler()\n",
        "test_data = pd.DataFrame(scaler.fit_transform(test_data), columns=test_data.columns)\n",
        "\n",
        "\n",
        "\n"
      ]
    },
    {
      "cell_type": "markdown",
      "id": "81774830",
      "metadata": {
        "id": "81774830"
      },
      "source": [
        "## Read Train data"
      ]
    },
    {
      "cell_type": "code",
      "execution_count": 21,
      "id": "62515551",
      "metadata": {},
      "outputs": [],
      "source": [
        "train_home = train_home_team_statistics_df.iloc[:,2:]\n",
        "train_away = train_away_team_statistics_df.iloc[:,2:]\n",
        "diff_train = train_home - train_away"
      ]
    },
    {
      "cell_type": "code",
      "execution_count": 14,
      "id": "6aee6b65-07fa-442e-b0b3-4328ef3007e5",
      "metadata": {
        "colab": {
          "base_uri": "https://localhost:8080/",
          "height": 35
        },
        "id": "6aee6b65-07fa-442e-b0b3-4328ef3007e5",
        "outputId": "0434ac73-f925-4ae7-b3c8-984b54f1c860"
      },
      "outputs": [
        {
          "data": {
            "text/plain": [
              "ID\n",
              "0        AWAY_WINS\n",
              "1             DRAW\n",
              "2        AWAY_WINS\n",
              "3        HOME_WINS\n",
              "4             DRAW\n",
              "           ...    \n",
              "12298    AWAY_WINS\n",
              "12299    AWAY_WINS\n",
              "12300    AWAY_WINS\n",
              "12301    HOME_WINS\n",
              "12302    HOME_WINS\n",
              "Name: result, Length: 12303, dtype: object"
            ]
          },
          "execution_count": 14,
          "metadata": {},
          "output_type": "execute_result"
        }
      ],
      "source": [
        "\n",
        "train_home.columns = train_home.columns + '_home'\n",
        "train_away.columns = train_away.columns + '_away'\n",
        "diff_train.columns = diff_train.columns + '_diff'\n",
        "\n",
        "\n",
        "\n",
        "# inpute missing values\n",
        "train_data = pd.concat([train_home, train_away,diff_train], axis=1)\n",
        "mean_values = train_data.mean()\n",
        "train_data = train_data.fillna(mean_values)\n",
        "\n",
        "\n",
        "# scale the data\n",
        "scaler = StandardScaler()\n",
        "train_data = pd.DataFrame(scaler.fit_transform(train_data), columns=train_data.columns)\n",
        "\n",
        "def func(row):\n",
        "    if row[0]==1:\n",
        "        return \"HOME_WINS\"\n",
        "    elif row[1]==1:\n",
        "        return \"DRAW\"\n",
        "    elif row[2]==1:\n",
        "        return \"AWAY_WINS\"\n",
        "\n",
        "train_scores['result'] = train_scores.apply(func,axis=1)\n",
        "train_scores = train_scores['result']\n",
        "\n",
        "train_scores"
      ]
    },
    {
      "cell_type": "markdown",
      "id": "73acde0c",
      "metadata": {
        "id": "73acde0c"
      },
      "source": [
        "### train, valid  split"
      ]
    },
    {
      "cell_type": "code",
      "execution_count": 15,
      "id": "702356a1",
      "metadata": {
        "id": "702356a1"
      },
      "outputs": [],
      "source": [
        "X_train, X_val, y_train, y_val = model_selection.train_test_split(train_data, train_scores, train_size=0.8, random_state=43)\n"
      ]
    },
    {
      "cell_type": "code",
      "execution_count": 17,
      "id": "708f83e9",
      "metadata": {},
      "outputs": [
        {
          "name": "stdout",
          "output_type": "stream",
          "text": [
            "Accuracy: 0.49695245835026414\n",
            "Confusion Matrix: [[340   1 417]\n",
            " [167   1 452]\n",
            " [201   0 882]]\n"
          ]
        }
      ],
      "source": [
        "# set a random forest\n",
        "clf = MLPClassifier(hidden_layer_sizes=(100,100,100), max_iter=500, alpha=0.0001)\n",
        "clf.fit(X_train, y_train)\n",
        "\n",
        "# predict the validation set\n",
        "y_pred = clf.predict(X_val)\n",
        "\n",
        "# print the accuracy\n",
        "print('Accuracy:', accuracy_score(y_val, y_pred))\n",
        "print('Confusion Matrix:', confusion_matrix(y_val, y_pred))"
      ]
    },
    {
      "cell_type": "code",
      "execution_count": 18,
      "id": "730cc45a",
      "metadata": {},
      "outputs": [],
      "source": [
        "# predict on the test data\n",
        "\n",
        "y_submit = clf.predict(test_data)\n",
        "y_submit = pd.DataFrame(y_submit)\n",
        "\n",
        "y_submit.index = y_submit.index + 12303\n",
        "y_submit.columns = ['result']\n",
        "y_submit['HOME_WINS'] = y_submit['result'].apply(lambda x : 1 if x == 'HOME_WINS' else 0)\n",
        "y_submit['DRAW'] = y_submit['result'].apply(lambda x : 1 if x == 'DRAW' else 0)\n",
        "y_submit['AWAY_WINS'] = y_submit['result'].apply(lambda x : 1 if x == 'AWAY_WINS' else 0)\n",
        "y_submit = y_submit.drop('result',axis=1)\n",
        "y_submit.to_csv('submission.csv')\n"
      ]
    },
    {
      "cell_type": "markdown",
      "id": "b18c753b",
      "metadata": {},
      "source": [
        "# Predict draws "
      ]
    },
    {
      "cell_type": "code",
      "execution_count": 9,
      "id": "410d5d72",
      "metadata": {},
      "outputs": [],
      "source": [
        "# upsampling of draws and away wins\n",
        "X_train_not_draw = train[train[0] != 'DRAW']\n",
        "X_train_draw = train[train[0] == 'DRAW']\n",
        "\n",
        "\n",
        "train_data_draw_upsampled = resample(X_train_draw, replace=True, n_samples=len(X_train_not_draw), random_state=42)\n",
        "\n",
        "train_data_upsampled = pd.concat([X_train_not_draw, train_data_draw_upsampled])\n",
        "\n",
        "X_train_upsampled = train_data_upsampled.iloc[:,:-1]\n",
        "y_train_upsampled = train_data_upsampled.iloc[:,-1]"
      ]
    },
    {
      "cell_type": "code",
      "execution_count": 10,
      "id": "153a5ad0",
      "metadata": {},
      "outputs": [],
      "source": [
        "# create a predictor if its a draw or not\n",
        "\n",
        "y_train_d = y_train_upsampled.apply(lambda x: 1 if x == \"DRAW\" else 0)\n",
        "y_val_d = y_val.apply(lambda x: 1 if x == \"DRAW\" else 0)\n",
        "\n",
        "\n",
        "# create a predictor if the home team wins or not\n",
        "clf = SVC(kernel='rbf', probability=True)\n",
        "clf.fit(X_train_upsampled, y_train_d)\n",
        "\n",
        "\n",
        "y_pred_d = clf.predict(X_val)\n",
        "print(\"roc_auc_score: \", roc_auc_score(y_val_d, y_pred_d))\n"
      ]
    },
    {
      "cell_type": "code",
      "execution_count": 14,
      "id": "d819477e",
      "metadata": {},
      "outputs": [
        {
          "name": "stdout",
          "output_type": "stream",
          "text": [
            "Confusion Matrix: \n",
            " [[1109  732]\n",
            " [ 376  244]]\n",
            "accuracy_score:  0.5497765136123527\n"
          ]
        }
      ],
      "source": [
        "# print the confusion matrix\n",
        "\n",
        "print(\"Confusion Matrix: \\n\", confusion_matrix(y_val_d, y_pred_d))\n",
        "print(\"accuracy_score: \", accuracy_score(y_val_d, y_pred_d))"
      ]
    },
    {
      "cell_type": "code",
      "execution_count": 15,
      "id": "f75dfd2a",
      "metadata": {},
      "outputs": [
        {
          "data": {
            "text/plain": [
              "TEAM_YELLOWCARDS_5_last_match_std        0.017016\n",
              "TEAM_CORNERS_5_last_match_std            0.016746\n",
              "TEAM_SHOTS_ON_TARGET_5_last_match_std    0.015353\n",
              "TEAM_INJURIES_5_last_match_sum           0.014815\n",
              "TEAM_BALL_POSSESSION_5_last_match_std    0.013309\n",
              "                                           ...   \n",
              "TEAM_YELLOWCARDS_season_sum              0.001048\n",
              "TEAM_SHOTS_TOTAL_5_last_match_std        0.001027\n",
              "TEAM_CORNERS_season_average              0.001013\n",
              "TEAM_YELLOWCARDS_season_average          0.000928\n",
              "TEAM_OFFSIDES_5_last_match_std           0.000245\n",
              "Length: 219, dtype: float64"
            ]
          },
          "execution_count": 15,
          "metadata": {},
          "output_type": "execute_result"
        }
      ],
      "source": [
        "# select the important features\n",
        "\n",
        "important_features = pd.Series(clf.feature_importances_, index=X_train_upsampled.columns).sort_values(ascending=False)\n",
        "important_features = important_features[important_features > 0]\n",
        "important_features"
      ]
    },
    {
      "cell_type": "markdown",
      "id": "5d32d586",
      "metadata": {
        "id": "5d32d586"
      },
      "source": [
        "## Hyperparameters of RF"
      ]
    },
    {
      "cell_type": "code",
      "execution_count": 83,
      "id": "2c7741d4",
      "metadata": {},
      "outputs": [
        {
          "data": {
            "image/png": "[encoded data removed]",
            "text/plain": [
              "<Figure size 720x360 with 1 Axes>"
            ]
          },
          "metadata": {
            "needs_background": "light"
          },
          "output_type": "display_data"
        }
      ],
      "source": [
        "# evaluate the impact of the number of trees in the forest on the performance of the model\n",
        "\n",
        "n_estimators = [1, 10, 20, 30, 40, 50, 60, 70, 80, 90, 100]\n",
        "val_results = []\n",
        "train_results = []\n",
        "for estimator in n_estimators:\n",
        "    rf_clf = RandomForestClassifier(n_estimators=estimator, n_jobs=-1, random_state=42)\n",
        "    rf_clf.fit(X_train, y_train)\n",
        "    train_pred = rf_clf.predict(X_train)\n",
        "    val_pred = rf_clf.predict(X_val)\n",
        "    train_accuracy = accuracy_score(y_train, train_pred)\n",
        "    val_accuracy = accuracy_score(y_val, val_pred)\n",
        "    val_results.append(val_accuracy)\n",
        "    train_results.append(train_accuracy)\n",
        "\n",
        "plt.figure(figsize=(10,5))\n",
        "plt.plot(n_estimators, val_results, 'b', label='Validation accuracy')\n",
        "plt.plot(n_estimators, train_results, 'r', label='Training accuracy')\n",
        "plt.ylabel('Accuracy')\n",
        "plt.xlabel('Number of trees')\n",
        "plt.legend()\n",
        "plt.show()\n"
      ]
    },
    {
      "cell_type": "code",
      "execution_count": 85,
      "id": "0a4ce224",
      "metadata": {},
      "outputs": [
        {
          "data": {
            "image/png": "[encoded data removed]",
            "text/plain": [
              "<Figure size 720x360 with 1 Axes>"
            ]
          },
          "metadata": {
            "needs_background": "light"
          },
          "output_type": "display_data"
        }
      ],
      "source": [
        "# evaluate the impact of the maximum depth of the trees in the forest on the performance of the model\n",
        "\n",
        "max_depths = [i for i in range(1, 21)]\n",
        "val_results = []\n",
        "train_results = []\n",
        "for depth in max_depths:\n",
        "    rf_clf = RandomForestClassifier(max_depth=depth, n_jobs=-1, random_state=42)\n",
        "    rf_clf.fit(X_train, y_train)\n",
        "    train_pred = rf_clf.predict(X_train)\n",
        "    val_pred = rf_clf.predict(X_val)\n",
        "    train_accuracy = accuracy_score(y_train, train_pred)\n",
        "    val_accuracy = accuracy_score(y_val, val_pred)\n",
        "    val_results.append(val_accuracy)\n",
        "    train_results.append(train_accuracy)\n",
        "\n",
        "plt.figure(figsize=(10,5))\n",
        "plt.plot(max_depths, val_results, 'b', label='Validation accuracy')\n",
        "plt.plot(max_depths, train_results, 'r', label='Training accuracy')\n",
        "plt.ylabel('Accuracy')\n",
        "plt.xlabel('Maximum depth')\n",
        "plt.legend()\n",
        "plt.show()"
      ]
    },
    {
      "cell_type": "code",
      "execution_count": 87,
      "id": "1e3d55a8",
      "metadata": {},
      "outputs": [
        {
          "data": {
            "image/png": "[encoded data removed]",
            "text/plain": [
              "<Figure size 720x360 with 1 Axes>"
            ]
          },
          "metadata": {
            "needs_background": "light"
          },
          "output_type": "display_data"
        }
      ],
      "source": [
        "# evaluate the impact of the minimum number of samples required to split an internal node on the performance of the model\n",
        "\n",
        "min_samples_splits = np.linspace(0.1, 1.0, 10, endpoint=True)\n",
        "val_results = []\n",
        "train_results = []\n",
        "for min in min_samples_splits:\n",
        "    rf_clf = RandomForestClassifier(min_samples_split=min, n_jobs=-1, random_state=42)\n",
        "    rf_clf.fit(X_train, y_train)\n",
        "    train_pred = rf_clf.predict(X_train)\n",
        "    val_pred = rf_clf.predict(X_val)\n",
        "    train_accuracy = accuracy_score(y_train, train_pred)\n",
        "    val_accuracy = accuracy_score(y_val, val_pred)\n",
        "    val_results.append(val_accuracy)\n",
        "    train_results.append(train_accuracy)\n",
        "\n",
        "plt.figure(figsize=(10,5))\n",
        "plt.plot(min_samples_splits, val_results, 'b', label='Validation accuracy')\n",
        "plt.plot(min_samples_splits, train_results, 'r', label='Training accuracy')\n",
        "plt.ylabel('Accuracy')\n",
        "plt.xlabel('Minimum samples split')\n",
        "plt.legend()\n",
        "plt.show()\n"
      ]
    },
    {
      "cell_type": "code",
      "execution_count": null,
      "id": "30a408ee",
      "metadata": {},
      "outputs": [],
      "source": [
        "# predict on the test data\n",
        "\n",
        "y_submit = rf_clf.predict(test_data)\n",
        "y_submit = pd.DataFrame(y_submit)\n",
        "\n",
        "y_submit.index = y_submit.index + 12303\n",
        "y_submit.columns = ['result']\n",
        "y_submit['HOME_WINS'] = y_submit['result'].apply(lambda x : 1 if x == 'HOME_WINS' else 0)\n",
        "y_submit['DRAW'] = y_submit['result'].apply(lambda x : 1 if x == 'DRAW' else 0)\n",
        "y_submit['AWAY_WINS'] = y_submit['result'].apply(lambda x : 1 if x == 'AWAY_WINS' else 0)\n",
        "y_submit = y_submit.drop('result',axis=1)\n",
        "y_submit.to_csv('submission.csv')\n",
        "\n"
      ]
    }
  ],
  "metadata": {
    "colab": {
      "collapsed_sections": [
        "2842884b"
      ],
      "provenance": []
    },
    "kernelspec": {
      "display_name": "Python 3 (ipykernel)",
      "language": "python",
      "name": "python3"
    },
    "language_info": {
      "codemirror_mode": {
        "name": "ipython",
        "version": 3
      },
      "file_extension": ".py",
      "mimetype": "text/x-python",
      "name": "python",
      "nbconvert_exporter": "python",
      "pygments_lexer": "ipython3",
      "version": "3.9.12"
    }
  },
  "nbformat": 4,
  "nbformat_minor": 5
}
